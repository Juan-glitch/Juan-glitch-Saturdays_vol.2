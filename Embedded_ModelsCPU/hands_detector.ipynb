{
 "cells": [
  {
   "cell_type": "code",
   "execution_count": 1,
   "id": "70bf1651",
   "metadata": {},
   "outputs": [],
   "source": [
    "import cvzone\n",
    "import cv2\n",
    "import time\n",
    "cap = cv2.VideoCapture(0)\n",
    "cap.set(3, 1280)\n",
    "cap.set(4, 720)\n",
    "detector = cvzone.HandDetector(detectionCon=0.5, maxHands=1)\n",
    "font =cv2.FONT_HERSHEY_PLAIN\n",
    "\n",
    "\n",
    "#GET FRAMES IN REAL TIME:\n",
    "start_time = time.time() #colect start time\n",
    "frame_id = 0 #colects frame quanty\n",
    "\n",
    "while True:\n",
    "    # Get image frame\n",
    "    success, img = cap.read()\n",
    "    frame_id+=1\n",
    "    \n",
    "    \n",
    "    elapse = time.time()- start_time  \n",
    "    fps = frame_id/elapse\n",
    "    \n",
    "    # Find the hand and its landmarks\n",
    "    img = detector.findHands(img)\n",
    "    lmList, bbox = detector.findPosition(img)\n",
    "    #SPEED TESTER\n",
    "    elapse = time.time()- start_time  \n",
    "    fps = frame_id/elapse   \n",
    "    cv2.putText( img, \"FPS: \" + str(round(fps,2)),(10,30), font, 3,(0,255,0),1)\n",
    "    \n",
    "    \n",
    "    \n",
    "    # VISUALIZE ALL\n",
    "    cv2.imshow(\"Image\", img)\n",
    "    \n",
    "    # Display\n",
    "    cv2.imshow(\"Image\", img)\n",
    "    \n",
    "    #STOP COMMANDS   \n",
    "    key = cv2.waitKey(1)\n",
    "    if key == 27: #esc keyboard\n",
    "        break\n",
    "        \n",
    "cap.release()\n",
    "cv2.destroyAllWindows()"
   ]
  }
 ],
 "metadata": {
  "kernelspec": {
   "display_name": "Python 3",
   "language": "python",
   "name": "python3"
  },
  "language_info": {
   "codemirror_mode": {
    "name": "ipython",
    "version": 3
   },
   "file_extension": ".py",
   "mimetype": "text/x-python",
   "name": "python",
   "nbconvert_exporter": "python",
   "pygments_lexer": "ipython3",
   "version": "3.6.13"
  }
 },
 "nbformat": 4,
 "nbformat_minor": 5
}
