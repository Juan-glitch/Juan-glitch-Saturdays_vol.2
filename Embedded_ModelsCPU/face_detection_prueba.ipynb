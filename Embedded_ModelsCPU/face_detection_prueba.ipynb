{
 "cells": [
  {
   "cell_type": "code",
   "execution_count": 1,
   "id": "9adb3c96",
   "metadata": {},
   "outputs": [
    {
     "name": "stdout",
     "output_type": "stream",
     "text": [
      "working directory is  C:\\Users\\jjari\\Desktop\\theegg\\proyectowatchdog\n"
     ]
    }
   ],
   "source": [
    "import cv2\n",
    "import mediapipe as mp\n",
    "import time\n",
    "import os\n",
    "from datetime import datetime\n",
    "wd = os.getcwd()\n",
    "print(\"working directory is \", wd)"
   ]
  },
  {
   "cell_type": "code",
   "execution_count": 2,
   "id": "593afd7c",
   "metadata": {},
   "outputs": [],
   "source": [
    "def timer(start_time=None):\n",
    "    '''\n",
    "    - start_time = timer(None) # timing starts\n",
    "    -     *** Tu programa ***\n",
    "    - timer(start_time)\n",
    "    \n",
    "    '''\n",
    "    if not start_time:\n",
    "        start_time = datetime.now()\n",
    "        frame_id = 0\n",
    "        return start_time\n",
    "    elif start_time:\n",
    "        thour, temp_sec = divmod((datetime.now() - start_time).total_seconds(), 3600)\n",
    "        tmin, tsec = divmod(temp_sec, 60)\n",
    "#         print('\\n Time taken: %i hours %i minutes and %s seconds.' % (thour, tmin, round(tsec, 2)))"
   ]
  },
  {
   "cell_type": "code",
   "execution_count": 3,
   "id": "537107f0",
   "metadata": {},
   "outputs": [],
   "source": [
    "import cvzone\n",
    "import cv2\n",
    "\n",
    "cap = cv2.VideoCapture(0)\n",
    "detector = cvzone.FaceDetector()\n",
    "font =cv2.FONT_HERSHEY_PLAIN\n",
    "#GET FRAMES IN REAL TIME:\n",
    "\n",
    "#GET FRAMES IN REAL TIME:\n",
    "start_time = time.time() #colect start time\n",
    "frame_id = 0 #colects frame quanty\n",
    "\n",
    "while True:\n",
    "    success, img = cap.read()\n",
    "    frame_id+=1\n",
    "    img, bboxs = detector.findFaces(img) \n",
    "    \n",
    "    \n",
    "\n",
    "        \n",
    "    #SPEED TESTER\n",
    "    elapse = time.time()- start_time  \n",
    "    fps = frame_id/elapse\n",
    "#     print(f'FPS {str(round(fps,2))}')\n",
    "#     function_putText = (img, text, org, fontFace, fontScale, color, thikness, lineType, botonLeft)\n",
    "    cv2.putText( img, \"FPS: \" + str(round(fps,2)),(10,30), font, 3,(0,255,0),1)\n",
    "    cv2.imshow(\"Image\", img) \n",
    "    \n",
    "    #STOP COMMANDS   \n",
    "    key = cv2.waitKey(1)\n",
    "    \n",
    "    if key == 27: #esc keyboard\n",
    "        break\n",
    "\n",
    "cap.release() #Close camera reading\n",
    "cv2.destroyAllWindows()"
   ]
  },
  {
   "cell_type": "code",
   "execution_count": null,
   "id": "af8291f6",
   "metadata": {},
   "outputs": [],
   "source": []
  }
 ],
 "metadata": {
  "kernelspec": {
   "display_name": "Python 3",
   "language": "python",
   "name": "python3"
  },
  "language_info": {
   "codemirror_mode": {
    "name": "ipython",
    "version": 3
   },
   "file_extension": ".py",
   "mimetype": "text/x-python",
   "name": "python",
   "nbconvert_exporter": "python",
   "pygments_lexer": "ipython3",
   "version": "3.6.13"
  }
 },
 "nbformat": 4,
 "nbformat_minor": 5
}
